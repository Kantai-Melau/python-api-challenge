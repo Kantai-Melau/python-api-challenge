{
 "cells": [
  {
   "cell_type": "code",
   "execution_count": 53,
   "id": "08c9d8c7",
   "metadata": {},
   "outputs": [],
   "source": [
    "#Dependencies and setup\n",
    "import matplotlib.pyplot as plt\n",
    "import pandas as pd\n",
    "import numpy as np\n",
    "import requests\n",
    "import gmaps\n",
    "import os\n",
    "import json\n",
    "\n",
    "#Import API key\n",
    "from api_keys import g_key"
   ]
  },
  {
   "cell_type": "markdown",
   "id": "d1e21f8e",
   "metadata": {},
   "source": [
    "### Store Part I results into DataFrame\n",
    "* Load the csv exported in Part I to a DataFrame"
   ]
  },
  {
   "cell_type": "code",
   "execution_count": 55,
   "id": "4a8ce993",
   "metadata": {},
   "outputs": [
    {
     "data": {
      "text/html": [
       "<div>\n",
       "<style scoped>\n",
       "    .dataframe tbody tr th:only-of-type {\n",
       "        vertical-align: middle;\n",
       "    }\n",
       "\n",
       "    .dataframe tbody tr th {\n",
       "        vertical-align: top;\n",
       "    }\n",
       "\n",
       "    .dataframe thead th {\n",
       "        text-align: right;\n",
       "    }\n",
       "</style>\n",
       "<table border=\"1\" class=\"dataframe\">\n",
       "  <thead>\n",
       "    <tr style=\"text-align: right;\">\n",
       "      <th></th>\n",
       "      <th>City</th>\n",
       "      <th>Latitude</th>\n",
       "      <th>Longitude</th>\n",
       "      <th>Max Temp</th>\n",
       "      <th>Humidity</th>\n",
       "      <th>Cloudiness</th>\n",
       "      <th>Wind Speed</th>\n",
       "      <th>Country</th>\n",
       "      <th>Date</th>\n",
       "    </tr>\n",
       "  </thead>\n",
       "  <tbody>\n",
       "    <tr>\n",
       "      <th>0</th>\n",
       "      <td>castro</td>\n",
       "      <td>-24.7911</td>\n",
       "      <td>-50.0119</td>\n",
       "      <td>11.88</td>\n",
       "      <td>76</td>\n",
       "      <td>7</td>\n",
       "      <td>0.43</td>\n",
       "      <td>BR</td>\n",
       "      <td>1657671233</td>\n",
       "    </tr>\n",
       "    <tr>\n",
       "      <th>1</th>\n",
       "      <td>bud</td>\n",
       "      <td>39.4470</td>\n",
       "      <td>-86.1758</td>\n",
       "      <td>28.01</td>\n",
       "      <td>56</td>\n",
       "      <td>0</td>\n",
       "      <td>3.45</td>\n",
       "      <td>US</td>\n",
       "      <td>1657671233</td>\n",
       "    </tr>\n",
       "    <tr>\n",
       "      <th>2</th>\n",
       "      <td>albany</td>\n",
       "      <td>42.6001</td>\n",
       "      <td>-73.9662</td>\n",
       "      <td>26.49</td>\n",
       "      <td>68</td>\n",
       "      <td>19</td>\n",
       "      <td>0.45</td>\n",
       "      <td>US</td>\n",
       "      <td>1657671014</td>\n",
       "    </tr>\n",
       "    <tr>\n",
       "      <th>3</th>\n",
       "      <td>thompson</td>\n",
       "      <td>55.7435</td>\n",
       "      <td>-97.8558</td>\n",
       "      <td>25.70</td>\n",
       "      <td>22</td>\n",
       "      <td>25</td>\n",
       "      <td>0.70</td>\n",
       "      <td>CA</td>\n",
       "      <td>1657671233</td>\n",
       "    </tr>\n",
       "    <tr>\n",
       "      <th>4</th>\n",
       "      <td>bandarbeyla</td>\n",
       "      <td>9.4942</td>\n",
       "      <td>50.8122</td>\n",
       "      <td>25.81</td>\n",
       "      <td>70</td>\n",
       "      <td>88</td>\n",
       "      <td>12.00</td>\n",
       "      <td>SO</td>\n",
       "      <td>1657671234</td>\n",
       "    </tr>\n",
       "  </tbody>\n",
       "</table>\n",
       "</div>"
      ],
      "text/plain": [
       "          City  Latitude  Longitude  Max Temp  Humidity  Cloudiness  \\\n",
       "0       castro  -24.7911   -50.0119     11.88        76           7   \n",
       "1          bud   39.4470   -86.1758     28.01        56           0   \n",
       "2       albany   42.6001   -73.9662     26.49        68          19   \n",
       "3     thompson   55.7435   -97.8558     25.70        22          25   \n",
       "4  bandarbeyla    9.4942    50.8122     25.81        70          88   \n",
       "\n",
       "   Wind Speed Country        Date  \n",
       "0        0.43      BR  1657671233  \n",
       "1        3.45      US  1657671233  \n",
       "2        0.45      US  1657671014  \n",
       "3        0.70      CA  1657671233  \n",
       "4       12.00      SO  1657671234  "
      ]
     },
     "execution_count": 55,
     "metadata": {},
     "output_type": "execute_result"
    }
   ],
   "source": [
    "cities_df = pd.read_csv(\"../output_data/Cities.csv\")\n",
    "cities_df.head()"
   ]
  },
  {
   "cell_type": "markdown",
   "id": "d843a018",
   "metadata": {},
   "source": [
    "### Humidity Heatmap\n",
    "* Configure gmaps.\n",
    "* Use the Lat and Lng as locations and Humidity as the weight.\n",
    "* Add Heatmap layer to map."
   ]
  },
  {
   "cell_type": "code",
   "execution_count": 56,
   "id": "ddcea8fe",
   "metadata": {},
   "outputs": [],
   "source": [
    "#Configure gmaps\n",
    "gmaps.configure(api_key = g_key)\n",
    "\n",
    "#store locations and weight\n",
    "locations = cities_df[[\"Latitude\", \"Longitude\"]].astype(float)\n",
    "humidity = cities_df[\"Humidity\"].astype(float)"
   ]
  },
  {
   "cell_type": "code",
   "execution_count": 5,
   "id": "cbb732de",
   "metadata": {},
   "outputs": [
    {
     "data": {
      "application/vnd.jupyter.widget-view+json": {
       "model_id": "7837eccc12d348f783a5f9ef39a6cb0c",
       "version_major": 2,
       "version_minor": 0
      },
      "text/plain": [
       "Figure(layout=FigureLayout(height='420px'))"
      ]
     },
     "metadata": {},
     "output_type": "display_data"
    }
   ],
   "source": [
    "#Plot heat map\n",
    "fig = gmaps.figure()\n",
    "\n",
    "#Create heat layer\n",
    "heat_layer = gmaps.heatmap_layer(locations, weights=humidity,\n",
    "                                 dissipating=False, max_intensity=100,\n",
    "                                 point_radius=1)\n",
    "#Add layer\n",
    "fig.add_layer(heat_layer)\n",
    "fig"
   ]
  },
  {
   "cell_type": "markdown",
   "id": "57499dc5",
   "metadata": {},
   "source": [
    "### Create new DataFrame fitting weather criteria\n",
    "* Narrow down the cities to fit weather conditions.\n",
    "* Drop any rows will null values."
   ]
  },
  {
   "cell_type": "code",
   "execution_count": 58,
   "id": "f484a219",
   "metadata": {},
   "outputs": [
    {
     "data": {
      "text/html": [
       "<div>\n",
       "<style scoped>\n",
       "    .dataframe tbody tr th:only-of-type {\n",
       "        vertical-align: middle;\n",
       "    }\n",
       "\n",
       "    .dataframe tbody tr th {\n",
       "        vertical-align: top;\n",
       "    }\n",
       "\n",
       "    .dataframe thead th {\n",
       "        text-align: right;\n",
       "    }\n",
       "</style>\n",
       "<table border=\"1\" class=\"dataframe\">\n",
       "  <thead>\n",
       "    <tr style=\"text-align: right;\">\n",
       "      <th></th>\n",
       "      <th>City</th>\n",
       "      <th>Latitude</th>\n",
       "      <th>Longitude</th>\n",
       "      <th>Max Temp</th>\n",
       "      <th>Humidity</th>\n",
       "      <th>Cloudiness</th>\n",
       "      <th>Wind Speed</th>\n",
       "      <th>Country</th>\n",
       "      <th>Date</th>\n",
       "    </tr>\n",
       "  </thead>\n",
       "  <tbody>\n",
       "    <tr>\n",
       "      <th>371</th>\n",
       "      <td>constantine</td>\n",
       "      <td>36.3650</td>\n",
       "      <td>6.6147</td>\n",
       "      <td>25.67</td>\n",
       "      <td>41</td>\n",
       "      <td>0</td>\n",
       "      <td>1.03</td>\n",
       "      <td>DZ</td>\n",
       "      <td>1657671276</td>\n",
       "    </tr>\n",
       "    <tr>\n",
       "      <th>522</th>\n",
       "      <td>gijon</td>\n",
       "      <td>43.5357</td>\n",
       "      <td>-5.6615</td>\n",
       "      <td>25.14</td>\n",
       "      <td>95</td>\n",
       "      <td>0</td>\n",
       "      <td>1.34</td>\n",
       "      <td>ES</td>\n",
       "      <td>1657670826</td>\n",
       "    </tr>\n",
       "  </tbody>\n",
       "</table>\n",
       "</div>"
      ],
      "text/plain": [
       "            City  Latitude  Longitude  Max Temp  Humidity  Cloudiness  \\\n",
       "371  constantine   36.3650     6.6147     25.67        41           0   \n",
       "522        gijon   43.5357    -5.6615     25.14        95           0   \n",
       "\n",
       "     Wind Speed Country        Date  \n",
       "371        1.03      DZ  1657671276  \n",
       "522        1.34      ES  1657670826  "
      ]
     },
     "execution_count": 58,
     "metadata": {},
     "output_type": "execute_result"
    }
   ],
   "source": [
    "ideal_weather = cities_df.loc[(cities_df[\"Max Temp\"] >= 25) & (cities_df[\"Max Temp\"] < 26) &\n",
    "                             (cities_df[\"Wind Speed\"] < 5) & (cities_df[\"Cloudiness\"] < 2)]\n",
    "ideal_weather"
   ]
  },
  {
   "cell_type": "markdown",
   "id": "6f284d71",
   "metadata": {},
   "source": [
    "### Hotel Map\n",
    "* Store into variable named `hotel_df`.\n",
    "* Add a \"Hotel Name\" column to the DataFrame.\n",
    "* Set parameters to search for hotels with 5000 meters.\n",
    "* Hit the Google Places API for each city's coordinates.\n",
    "* Store the first Hotel result into the DataFrame.\n",
    "* Plot markers on top of the heatmap."
   ]
  },
  {
   "cell_type": "code",
   "execution_count": 59,
   "id": "67bd7b94",
   "metadata": {},
   "outputs": [
    {
     "name": "stderr",
     "output_type": "stream",
     "text": [
      "C:\\Users\\Spectre 13 X360\\anaconda3\\envs\\PythonData\\lib\\site-packages\\ipykernel_launcher.py:3: SettingWithCopyWarning: \n",
      "A value is trying to be set on a copy of a slice from a DataFrame.\n",
      "Try using .loc[row_indexer,col_indexer] = value instead\n",
      "\n",
      "See the caveats in the documentation: https://pandas.pydata.org/pandas-docs/stable/user_guide/indexing.html#returning-a-view-versus-a-copy\n",
      "  This is separate from the ipykernel package so we can avoid doing imports until\n"
     ]
    },
    {
     "data": {
      "text/html": [
       "<div>\n",
       "<style scoped>\n",
       "    .dataframe tbody tr th:only-of-type {\n",
       "        vertical-align: middle;\n",
       "    }\n",
       "\n",
       "    .dataframe tbody tr th {\n",
       "        vertical-align: top;\n",
       "    }\n",
       "\n",
       "    .dataframe thead th {\n",
       "        text-align: right;\n",
       "    }\n",
       "</style>\n",
       "<table border=\"1\" class=\"dataframe\">\n",
       "  <thead>\n",
       "    <tr style=\"text-align: right;\">\n",
       "      <th></th>\n",
       "      <th>City</th>\n",
       "      <th>Latitude</th>\n",
       "      <th>Longitude</th>\n",
       "      <th>Max Temp</th>\n",
       "      <th>Humidity</th>\n",
       "      <th>Cloudiness</th>\n",
       "      <th>Wind Speed</th>\n",
       "      <th>Country</th>\n",
       "      <th>Date</th>\n",
       "      <th>Hotel Name</th>\n",
       "    </tr>\n",
       "  </thead>\n",
       "  <tbody>\n",
       "    <tr>\n",
       "      <th>371</th>\n",
       "      <td>constantine</td>\n",
       "      <td>36.3650</td>\n",
       "      <td>6.6147</td>\n",
       "      <td>25.67</td>\n",
       "      <td>41</td>\n",
       "      <td>0</td>\n",
       "      <td>1.03</td>\n",
       "      <td>DZ</td>\n",
       "      <td>1657671276</td>\n",
       "      <td></td>\n",
       "    </tr>\n",
       "    <tr>\n",
       "      <th>522</th>\n",
       "      <td>gijon</td>\n",
       "      <td>43.5357</td>\n",
       "      <td>-5.6615</td>\n",
       "      <td>25.14</td>\n",
       "      <td>95</td>\n",
       "      <td>0</td>\n",
       "      <td>1.34</td>\n",
       "      <td>ES</td>\n",
       "      <td>1657670826</td>\n",
       "      <td></td>\n",
       "    </tr>\n",
       "  </tbody>\n",
       "</table>\n",
       "</div>"
      ],
      "text/plain": [
       "            City  Latitude  Longitude  Max Temp  Humidity  Cloudiness  \\\n",
       "371  constantine   36.3650     6.6147     25.67        41           0   \n",
       "522        gijon   43.5357    -5.6615     25.14        95           0   \n",
       "\n",
       "     Wind Speed Country        Date Hotel Name  \n",
       "371        1.03      DZ  1657671276             \n",
       "522        1.34      ES  1657670826             "
      ]
     },
     "execution_count": 59,
     "metadata": {},
     "output_type": "execute_result"
    }
   ],
   "source": [
    "#Store to hotel_df and add the column\n",
    "hotel_df = ideal_weather\n",
    "hotel_df[\"Hotel Name\"] = \"\"\n",
    "hotel_df"
   ]
  },
  {
   "cell_type": "code",
   "execution_count": 61,
   "id": "24ee4bd7",
   "metadata": {},
   "outputs": [
    {
     "name": "stdout",
     "output_type": "stream",
     "text": [
      "The closest hotel in constantine is ibis Constantine\n"
     ]
    },
    {
     "name": "stderr",
     "output_type": "stream",
     "text": [
      "C:\\Users\\Spectre 13 X360\\anaconda3\\envs\\PythonData\\lib\\site-packages\\ipykernel_launcher.py:19: SettingWithCopyWarning: \n",
      "A value is trying to be set on a copy of a slice from a DataFrame\n",
      "\n",
      "See the caveats in the documentation: https://pandas.pydata.org/pandas-docs/stable/user_guide/indexing.html#returning-a-view-versus-a-copy\n",
      "C:\\Users\\Spectre 13 X360\\anaconda3\\envs\\PythonData\\lib\\site-packages\\IPython\\core\\interactiveshell.py:3457: SettingWithCopyWarning: \n",
      "A value is trying to be set on a copy of a slice from a DataFrame\n",
      "\n",
      "See the caveats in the documentation: https://pandas.pydata.org/pandas-docs/stable/user_guide/indexing.html#returning-a-view-versus-a-copy\n",
      "  exec(code_obj, self.user_global_ns, self.user_ns)\n"
     ]
    },
    {
     "name": "stdout",
     "output_type": "stream",
     "text": [
      "The closest hotel in gijon is Hotel Begoña Centro\n"
     ]
    }
   ],
   "source": [
    "params = {\n",
    "    \"radius\": 5000,\n",
    "    \"types\": \"lodging\",\n",
    "    \"keyword\": \"hotel\",\n",
    "    \"key\": g_key\n",
    "}\n",
    "base_url = \"https://maps.googleapis.com/maps/api/place/nearbysearch/json\"\n",
    "for i, row in hotel_df.iterrows():\n",
    "    lat = row[\"Latitude\"]\n",
    "    long = row[\"Longitude\"]\n",
    "    city = row[\"City\"]\n",
    "    params[\"location\"] = f\"{lat},{long}\"\n",
    "    \n",
    "    response = requests.get(base_url, params=params).json()\n",
    "    hotel_name = response[\"results\"][0][\"name\"]\n",
    "    \n",
    "    try:\n",
    "        print(f\"The closest hotel in {city} is {hotel_name}\")\n",
    "        hotel_df[\"Hotel Name\"][i] = hotel_name\n",
    "    except:\n",
    "        print(f\"Hotel not found for {city}\")"
   ]
  },
  {
   "cell_type": "code",
   "execution_count": 62,
   "id": "3a88dd9e",
   "metadata": {},
   "outputs": [
    {
     "data": {
      "text/html": [
       "<div>\n",
       "<style scoped>\n",
       "    .dataframe tbody tr th:only-of-type {\n",
       "        vertical-align: middle;\n",
       "    }\n",
       "\n",
       "    .dataframe tbody tr th {\n",
       "        vertical-align: top;\n",
       "    }\n",
       "\n",
       "    .dataframe thead th {\n",
       "        text-align: right;\n",
       "    }\n",
       "</style>\n",
       "<table border=\"1\" class=\"dataframe\">\n",
       "  <thead>\n",
       "    <tr style=\"text-align: right;\">\n",
       "      <th></th>\n",
       "      <th>City</th>\n",
       "      <th>Latitude</th>\n",
       "      <th>Longitude</th>\n",
       "      <th>Max Temp</th>\n",
       "      <th>Humidity</th>\n",
       "      <th>Cloudiness</th>\n",
       "      <th>Wind Speed</th>\n",
       "      <th>Country</th>\n",
       "      <th>Date</th>\n",
       "      <th>Hotel Name</th>\n",
       "    </tr>\n",
       "  </thead>\n",
       "  <tbody>\n",
       "    <tr>\n",
       "      <th>371</th>\n",
       "      <td>constantine</td>\n",
       "      <td>36.3650</td>\n",
       "      <td>6.6147</td>\n",
       "      <td>25.67</td>\n",
       "      <td>41</td>\n",
       "      <td>0</td>\n",
       "      <td>1.03</td>\n",
       "      <td>DZ</td>\n",
       "      <td>1657671276</td>\n",
       "      <td>ibis Constantine</td>\n",
       "    </tr>\n",
       "    <tr>\n",
       "      <th>522</th>\n",
       "      <td>gijon</td>\n",
       "      <td>43.5357</td>\n",
       "      <td>-5.6615</td>\n",
       "      <td>25.14</td>\n",
       "      <td>95</td>\n",
       "      <td>0</td>\n",
       "      <td>1.34</td>\n",
       "      <td>ES</td>\n",
       "      <td>1657670826</td>\n",
       "      <td>Hotel Begoña Centro</td>\n",
       "    </tr>\n",
       "  </tbody>\n",
       "</table>\n",
       "</div>"
      ],
      "text/plain": [
       "            City  Latitude  Longitude  Max Temp  Humidity  Cloudiness  \\\n",
       "371  constantine   36.3650     6.6147     25.67        41           0   \n",
       "522        gijon   43.5357    -5.6615     25.14        95           0   \n",
       "\n",
       "     Wind Speed Country        Date           Hotel Name  \n",
       "371        1.03      DZ  1657671276     ibis Constantine  \n",
       "522        1.34      ES  1657670826  Hotel Begoña Centro  "
      ]
     },
     "execution_count": 62,
     "metadata": {},
     "output_type": "execute_result"
    }
   ],
   "source": [
    "hotel_df"
   ]
  },
  {
   "cell_type": "code",
   "execution_count": 63,
   "id": "87f52889",
   "metadata": {},
   "outputs": [],
   "source": [
    "# NOTE: Do not change any of the code in this cell\n",
    "\n",
    "# Using the template add the hotel marks to the heatmap\n",
    "info_box_template = \"\"\"\n",
    "<dl>\n",
    "<dt>Name</dt><dd>{Hotel Name}</dd>\n",
    "<dt>City</dt><dd>{City}</dd>\n",
    "<dt>Country</dt><dd>{Country}</dd>\n",
    "</dl>\n",
    "\"\"\"\n",
    "# Store the DataFrame Row\n",
    "# NOTE: be sure to update with your DataFrame name\n",
    "hotel_info = [info_box_template.format(**row) for index, row in hotel_df.iterrows()]\n",
    "locations = hotel_df[[\"Latitude\", \"Longitude\"]]"
   ]
  },
  {
   "cell_type": "code",
   "execution_count": 64,
   "id": "8c57185a",
   "metadata": {},
   "outputs": [
    {
     "data": {
      "application/vnd.jupyter.widget-view+json": {
       "model_id": "13c2526b59f747639d62c9f37f8758ac",
       "version_major": 2,
       "version_minor": 0
      },
      "text/plain": [
       "Figure(layout=FigureLayout(height='420px'))"
      ]
     },
     "metadata": {},
     "output_type": "display_data"
    }
   ],
   "source": [
    "# Add marker layer ontop of heat map\n",
    "markers = gmaps.marker_layer(locations, info_box_content=hotel_info)\n",
    "fig.add_layer(markers)\n",
    "fig"
   ]
  },
  {
   "cell_type": "code",
   "execution_count": null,
   "id": "55dbf34c",
   "metadata": {},
   "outputs": [],
   "source": []
  }
 ],
 "metadata": {
  "kernelspec": {
   "display_name": "PythonData",
   "language": "python",
   "name": "pythondata"
  },
  "language_info": {
   "codemirror_mode": {
    "name": "ipython",
    "version": 3
   },
   "file_extension": ".py",
   "mimetype": "text/x-python",
   "name": "python",
   "nbconvert_exporter": "python",
   "pygments_lexer": "ipython3",
   "version": "3.7.7"
  }
 },
 "nbformat": 4,
 "nbformat_minor": 5
}
